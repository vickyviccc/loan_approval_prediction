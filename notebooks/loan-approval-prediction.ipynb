{
 "cells": [
  {
   "cell_type": "code",
   "execution_count": 1,
   "id": "fdd1ce9e",
   "metadata": {
    "_cell_guid": "b1076dfc-b9ad-4769-8c92-a6c4dae69d19",
    "_uuid": "8f2839f25d086af736a60e9eeb907d3b93b6e0e5",
    "execution": {
     "iopub.execute_input": "2024-10-17T19:17:12.618111Z",
     "iopub.status.busy": "2024-10-17T19:17:12.617648Z",
     "iopub.status.idle": "2024-10-17T19:17:13.499229Z",
     "shell.execute_reply": "2024-10-17T19:17:13.498141Z"
    },
    "papermill": {
     "duration": 0.889778,
     "end_time": "2024-10-17T19:17:13.502289",
     "exception": false,
     "start_time": "2024-10-17T19:17:12.612511",
     "status": "completed"
    },
    "tags": []
   },
   "outputs": [
    {
     "name": "stdout",
     "output_type": "stream",
     "text": [
      "/kaggle/input/playground-series-s4e10/sample_submission.csv\n",
      "/kaggle/input/playground-series-s4e10/train.csv\n",
      "/kaggle/input/playground-series-s4e10/test.csv\n"
     ]
    }
   ],
   "source": [
    "# This Python 3 environment comes with many helpful analytics libraries installed\n",
    "# It is defined by the kaggle/python Docker image: https://github.com/kaggle/docker-python\n",
    "# For example, here's several helpful packages to load\n",
    "\n",
    "import numpy as np # linear algebra\n",
    "import pandas as pd # data processing, CSV file I/O (e.g. pd.read_csv)\n",
    "\n",
    "# Input data files are available in the read-only \"../input/\" directory\n",
    "# For example, running this (by clicking run or pressing Shift+Enter) will list all files under the input directory\n",
    "\n",
    "import os\n",
    "for dirname, _, filenames in os.walk('/kaggle/input'):\n",
    "    for filename in filenames:\n",
    "        print(os.path.join(dirname, filename))\n",
    "\n",
    "# You can write up to 20GB to the current directory (/kaggle/working/) that gets preserved as output when you create a version using \"Save & Run All\" \n",
    "# You can also write temporary files to /kaggle/temp/, but they won't be saved outside of the current session"
   ]
  },
  {
   "cell_type": "code",
   "execution_count": 2,
   "id": "8c021456",
   "metadata": {
    "execution": {
     "iopub.execute_input": "2024-10-17T19:17:13.510942Z",
     "iopub.status.busy": "2024-10-17T19:17:13.510392Z",
     "iopub.status.idle": "2024-10-17T19:17:13.778774Z",
     "shell.execute_reply": "2024-10-17T19:17:13.777585Z"
    },
    "papermill": {
     "duration": 0.275444,
     "end_time": "2024-10-17T19:17:13.781283",
     "exception": false,
     "start_time": "2024-10-17T19:17:13.505839",
     "status": "completed"
    },
    "tags": []
   },
   "outputs": [
    {
     "name": "stdout",
     "output_type": "stream",
     "text": [
      "<class 'pandas.core.frame.DataFrame'>\n",
      "RangeIndex: 58645 entries, 0 to 58644\n",
      "Data columns (total 13 columns):\n",
      " #   Column                      Non-Null Count  Dtype  \n",
      "---  ------                      --------------  -----  \n",
      " 0   id                          58645 non-null  int64  \n",
      " 1   person_age                  58645 non-null  int64  \n",
      " 2   person_income               58645 non-null  int64  \n",
      " 3   person_home_ownership       58645 non-null  object \n",
      " 4   person_emp_length           58645 non-null  float64\n",
      " 5   loan_intent                 58645 non-null  object \n",
      " 6   loan_grade                  58645 non-null  object \n",
      " 7   loan_amnt                   58645 non-null  int64  \n",
      " 8   loan_int_rate               58645 non-null  float64\n",
      " 9   loan_percent_income         58645 non-null  float64\n",
      " 10  cb_person_default_on_file   58645 non-null  object \n",
      " 11  cb_person_cred_hist_length  58645 non-null  int64  \n",
      " 12  loan_status                 58645 non-null  int64  \n",
      "dtypes: float64(3), int64(6), object(4)\n",
      "memory usage: 5.8+ MB\n"
     ]
    }
   ],
   "source": [
    "import pandas as pd\n",
    "\n",
    "# Load the train and test datasets\n",
    "train_data = pd.read_csv('/kaggle/input/playground-series-s4e10/train.csv')\n",
    "test_data = pd.read_csv('/kaggle/input/playground-series-s4e10/test.csv')\n",
    "\n",
    "# Display the first few rows of the train data\n",
    "train_data.head()\n",
    "\n",
    "# Check for missing values and data types\n",
    "train_data.info()\n"
   ]
  },
  {
   "cell_type": "code",
   "execution_count": 3,
   "id": "d86925fc",
   "metadata": {
    "execution": {
     "iopub.execute_input": "2024-10-17T19:17:13.789662Z",
     "iopub.status.busy": "2024-10-17T19:17:13.789198Z",
     "iopub.status.idle": "2024-10-17T19:17:25.195352Z",
     "shell.execute_reply": "2024-10-17T19:17:25.194005Z"
    },
    "papermill": {
     "duration": 11.413406,
     "end_time": "2024-10-17T19:17:25.197829",
     "exception": false,
     "start_time": "2024-10-17T19:17:13.784423",
     "status": "completed"
    },
    "tags": []
   },
   "outputs": [
    {
     "name": "stdout",
     "output_type": "stream",
     "text": [
      "id                            0\n",
      "person_age                    0\n",
      "person_income                 0\n",
      "person_home_ownership         0\n",
      "person_emp_length             0\n",
      "loan_intent                   0\n",
      "loan_grade                    0\n",
      "loan_amnt                     0\n",
      "loan_int_rate                 0\n",
      "loan_percent_income           0\n",
      "cb_person_default_on_file     0\n",
      "cb_person_cred_hist_length    0\n",
      "loan_status                   0\n",
      "dtype: int64\n",
      "id                            0\n",
      "person_age                    0\n",
      "person_income                 0\n",
      "person_home_ownership         0\n",
      "person_emp_length             0\n",
      "loan_intent                   0\n",
      "loan_grade                    0\n",
      "loan_amnt                     0\n",
      "loan_int_rate                 0\n",
      "loan_percent_income           0\n",
      "cb_person_default_on_file     0\n",
      "cb_person_cred_hist_length    0\n",
      "dtype: int64\n",
      "Validation Accuracy: 0.9510\n",
      "Submission file saved as 'submission.csv'.\n"
     ]
    }
   ],
   "source": [
    "import pandas as pd\n",
    "from sklearn.model_selection import train_test_split\n",
    "from sklearn.ensemble import RandomForestClassifier\n",
    "from sklearn.metrics import accuracy_score\n",
    "\n",
    "# Load the train and test datasets\n",
    "train_data = pd.read_csv('/kaggle/input/playground-series-s4e10/train.csv')\n",
    "test_data = pd.read_csv('/kaggle/input/playground-series-s4e10/test.csv')\n",
    "\n",
    "# 1. Fill missing values for numeric columns with the median\n",
    "numeric_cols = train_data.select_dtypes(include=['float64', 'int64']).columns\n",
    "train_data[numeric_cols] = train_data[numeric_cols].fillna(train_data[numeric_cols].median())\n",
    "\n",
    "# Since 'loan_status' or target column does not exist in test data, we ignore it for the test set\n",
    "test_numeric_cols = test_data.select_dtypes(include=['float64', 'int64']).columns\n",
    "test_data[test_numeric_cols] = test_data[test_numeric_cols].fillna(test_data[test_numeric_cols].median())\n",
    "\n",
    "# 2. Fill missing values for categorical columns with the mode\n",
    "categorical_cols = train_data.select_dtypes(include=['object']).columns\n",
    "train_data[categorical_cols] = train_data[categorical_cols].fillna(train_data[categorical_cols].mode().iloc[0])\n",
    "\n",
    "test_categorical_cols = test_data.select_dtypes(include=['object']).columns\n",
    "test_data[test_categorical_cols] = test_data[test_categorical_cols].fillna(test_data[test_categorical_cols].mode().iloc[0])\n",
    "\n",
    "# Verify that there are no missing values remaining\n",
    "print(train_data.isnull().sum())\n",
    "print(test_data.isnull().sum())\n",
    "\n",
    "# 3. Encode categorical variables using one-hot encoding\n",
    "train_data = pd.get_dummies(train_data, drop_first=True)\n",
    "test_data = pd.get_dummies(test_data, drop_first=True)\n",
    "\n",
    "# Ensure both datasets have the same columns (align test dataset with train)\n",
    "train_columns = train_data.columns.drop('loan_status')  # Exclude the target column\n",
    "test_data = test_data.reindex(columns=train_columns, fill_value=0)\n",
    "\n",
    "# 4. Split train data into features (X) and target (y)\n",
    "X = train_data.drop(['loan_status'], axis=1)\n",
    "y = train_data['loan_status']\n",
    "\n",
    "# 5. Split into training and validation sets\n",
    "X_train, X_val, y_train, y_val = train_test_split(X, y, test_size=0.2, random_state=42)\n",
    "\n",
    "# 6. Train a Random Forest model\n",
    "rf_model = RandomForestClassifier()\n",
    "rf_model.fit(X_train, y_train)\n",
    "\n",
    "# 7. Make predictions on the validation set\n",
    "y_pred = rf_model.predict(X_val)\n",
    "\n",
    "# 8. Evaluate the model's accuracy\n",
    "accuracy = accuracy_score(y_val, y_pred)\n",
    "print(f'Validation Accuracy: {accuracy:.4f}')\n",
    "\n",
    "# 9. Make predictions on the test dataset\n",
    "test_predictions = rf_model.predict(test_data)\n",
    "\n",
    "# 10. Create a submission file\n",
    "submission = pd.DataFrame({\n",
    "    'Id': test_data.index,  # Replace 'Id' with the actual identifier column in test.csv if available\n",
    "    'loan_status': test_predictions  # Replace 'loan_status' with the correct target name for submission\n",
    "})\n",
    "\n",
    "# Save the submission file\n",
    "submission.to_csv('submission.csv', index=False)\n",
    "print(\"Submission file saved as 'submission.csv'.\")\n"
   ]
  },
  {
   "cell_type": "code",
   "execution_count": 4,
   "id": "379030a9",
   "metadata": {
    "execution": {
     "iopub.execute_input": "2024-10-17T19:17:25.206950Z",
     "iopub.status.busy": "2024-10-17T19:17:25.206127Z",
     "iopub.status.idle": "2024-10-17T19:17:25.324679Z",
     "shell.execute_reply": "2024-10-17T19:17:25.323235Z"
    },
    "papermill": {
     "duration": 0.125867,
     "end_time": "2024-10-17T19:17:25.327299",
     "exception": false,
     "start_time": "2024-10-17T19:17:25.201432",
     "status": "completed"
    },
    "tags": []
   },
   "outputs": [
    {
     "name": "stdout",
     "output_type": "stream",
     "text": [
      "Submission file saved as 'submission.csv'.\n"
     ]
    }
   ],
   "source": [
    "import pandas as pd\n",
    "\n",
    "# Load the test dataset\n",
    "test_data = pd.read_csv('/kaggle/input/playground-series-s4e10/test.csv')\n",
    "\n",
    "# Create a submission DataFrame with 'id' and 'loan_status' (set to 0.5 for all entries)\n",
    "submission = pd.DataFrame({\n",
    "    'id': test_data['id'],  # Use the correct identifier column 'id'\n",
    "    'loan_status': 0.5  # Set the 'loan_status' to 0.5 for all rows\n",
    "})\n",
    "\n",
    "# Save the submission file\n",
    "submission.to_csv('submission.csv', index=False)\n",
    "print(\"Submission file saved as 'submission.csv'.\")\n"
   ]
  },
  {
   "cell_type": "code",
   "execution_count": 5,
   "id": "6f52d9c7",
   "metadata": {
    "execution": {
     "iopub.execute_input": "2024-10-17T19:17:25.336049Z",
     "iopub.status.busy": "2024-10-17T19:17:25.335671Z",
     "iopub.status.idle": "2024-10-17T19:17:34.962720Z",
     "shell.execute_reply": "2024-10-17T19:17:34.961359Z"
    },
    "papermill": {
     "duration": 9.634507,
     "end_time": "2024-10-17T19:17:34.965390",
     "exception": false,
     "start_time": "2024-10-17T19:17:25.330883",
     "status": "completed"
    },
    "tags": []
   },
   "outputs": [
    {
     "name": "stdout",
     "output_type": "stream",
     "text": [
      "Validation Accuracy: 0.9515\n",
      "Submission file saved as 'submission.csv'.\n"
     ]
    }
   ],
   "source": [
    "import pandas as pd\n",
    "from sklearn.model_selection import train_test_split\n",
    "from sklearn.ensemble import RandomForestClassifier\n",
    "from sklearn.metrics import accuracy_score\n",
    "\n",
    "# Load the train and test datasets\n",
    "train_data = pd.read_csv('/kaggle/input/playground-series-s4e10/train.csv')\n",
    "test_data = pd.read_csv('/kaggle/input/playground-series-s4e10/test.csv')\n",
    "\n",
    "# 1. Fill missing values for numeric columns with the median\n",
    "numeric_cols = train_data.select_dtypes(include=['float64', 'int64']).columns\n",
    "train_data[numeric_cols] = train_data[numeric_cols].fillna(train_data[numeric_cols].median())\n",
    "test_numeric_cols = test_data.select_dtypes(include=['float64', 'int64']).columns\n",
    "test_data[test_numeric_cols] = test_data[test_numeric_cols].fillna(test_data[test_numeric_cols].median())\n",
    "\n",
    "# 2. Fill missing values for categorical columns with the mode\n",
    "categorical_cols = train_data.select_dtypes(include=['object']).columns\n",
    "train_data[categorical_cols] = train_data[categorical_cols].fillna(train_data[categorical_cols].mode().iloc[0])\n",
    "test_categorical_cols = test_data.select_dtypes(include=['object']).columns\n",
    "test_data[test_categorical_cols] = test_data[test_categorical_cols].fillna(test_data[test_categorical_cols].mode().iloc[0])\n",
    "\n",
    "# 3. Encode categorical variables using one-hot encoding\n",
    "train_data = pd.get_dummies(train_data, drop_first=True)\n",
    "test_data = pd.get_dummies(test_data, drop_first=True)\n",
    "\n",
    "# Ensure both datasets have the same columns (align test dataset with train)\n",
    "train_columns = train_data.columns.drop('loan_status')  # Exclude the target column\n",
    "test_data = test_data.reindex(columns=train_columns, fill_value=0)\n",
    "\n",
    "# 4. Split train data into features (X) and target (y)\n",
    "X = train_data.drop(['loan_status'], axis=1)\n",
    "y = train_data['loan_status']\n",
    "\n",
    "# 5. Split into training and validation sets\n",
    "X_train, X_val, y_train, y_val = train_test_split(X, y, test_size=0.2, random_state=42)\n",
    "\n",
    "# 6. Train a Random Forest model\n",
    "rf_model = RandomForestClassifier()\n",
    "rf_model.fit(X_train, y_train)\n",
    "\n",
    "# 7. Make predictions on the validation set\n",
    "y_pred = rf_model.predict(X_val)\n",
    "\n",
    "# 8. Evaluate the model's accuracy\n",
    "accuracy = accuracy_score(y_val, y_pred)\n",
    "print(f'Validation Accuracy: {accuracy:.4f}')\n",
    "\n",
    "# 9. Make predictions on the test dataset\n",
    "test_predictions = rf_model.predict(test_data)\n",
    "\n",
    "# 10. Create a submission file with the predicted loan statuses\n",
    "submission = pd.DataFrame({\n",
    "    'id': test_data.index,  # Use the row index as the identifier\n",
    "    'loan_status': test_predictions  # Predicted loan status\n",
    "})\n",
    "\n",
    "# Save the submission file\n",
    "submission.to_csv('submission.csv', index=False)\n",
    "print(\"Submission file saved as 'submission.csv'.\")\n"
   ]
  },
  {
   "cell_type": "code",
   "execution_count": 6,
   "id": "bb28710b",
   "metadata": {
    "execution": {
     "iopub.execute_input": "2024-10-17T19:17:34.974760Z",
     "iopub.status.busy": "2024-10-17T19:17:34.974220Z",
     "iopub.status.idle": "2024-10-17T19:17:35.074205Z",
     "shell.execute_reply": "2024-10-17T19:17:35.073015Z"
    },
    "papermill": {
     "duration": 0.108263,
     "end_time": "2024-10-17T19:17:35.077347",
     "exception": false,
     "start_time": "2024-10-17T19:17:34.969084",
     "status": "completed"
    },
    "tags": []
   },
   "outputs": [
    {
     "name": "stdout",
     "output_type": "stream",
     "text": [
      "Submission file saved as 'submission.csv'.\n"
     ]
    }
   ],
   "source": [
    "import pandas as pd\n",
    "\n",
    "# Load the test dataset\n",
    "test_data = pd.read_csv('/kaggle/input/playground-series-s4e10/test.csv')\n",
    "\n",
    "# Make sure to use the 'id' column from the test_data as the identifier in the submission\n",
    "submission = pd.DataFrame({\n",
    "    'id': test_data['id'],  # Use the correct 'id' column\n",
    "    'loan_status': test_predictions  # Predicted loan status from the model\n",
    "})\n",
    "\n",
    "# Save the submission file\n",
    "submission.to_csv('submission.csv', index=False)\n",
    "print(\"Submission file saved as 'submission.csv'.\")\n"
   ]
  },
  {
   "cell_type": "code",
   "execution_count": 7,
   "id": "fd7f5e03",
   "metadata": {
    "execution": {
     "iopub.execute_input": "2024-10-17T19:17:35.089977Z",
     "iopub.status.busy": "2024-10-17T19:17:35.089556Z",
     "iopub.status.idle": "2024-10-17T19:30:33.482795Z",
     "shell.execute_reply": "2024-10-17T19:30:33.481475Z"
    },
    "papermill": {
     "duration": 778.402503,
     "end_time": "2024-10-17T19:30:33.485316",
     "exception": false,
     "start_time": "2024-10-17T19:17:35.082813",
     "status": "completed"
    },
    "tags": []
   },
   "outputs": [
    {
     "name": "stdout",
     "output_type": "stream",
     "text": [
      "Fitting 3 folds for each of 81 candidates, totalling 243 fits\n",
      "Best parameters found: {'max_depth': 20, 'min_samples_leaf': 1, 'min_samples_split': 5, 'n_estimators': 300}\n",
      "Validation Accuracy with best parameters: 0.9511\n",
      "Submission file saved as 'submission.csv'.\n"
     ]
    }
   ],
   "source": [
    "import pandas as pd\n",
    "from sklearn.ensemble import RandomForestClassifier\n",
    "from sklearn.model_selection import train_test_split, GridSearchCV\n",
    "\n",
    "# Load train and test datasets\n",
    "train_data = pd.read_csv('/kaggle/input/playground-series-s4e10/train.csv')\n",
    "test_data = pd.read_csv('/kaggle/input/playground-series-s4e10/test.csv')\n",
    "\n",
    "# Drop missing values and unnecessary columns for training\n",
    "train_data = train_data.drop(['loan_int_rate'], axis=1)\n",
    "\n",
    "# One-hot encoding for categorical variables\n",
    "train_data = pd.get_dummies(train_data, drop_first=True)\n",
    "test_data = pd.get_dummies(test_data, drop_first=True)\n",
    "\n",
    "# Align train and test columns\n",
    "train_data, test_data = train_data.align(test_data, join='left', axis=1)\n",
    "\n",
    "# Fill missing values in the test set (if any) with 0\n",
    "test_data.fillna(0, inplace=True)\n",
    "\n",
    "# Drop the 'loan_status' column from the test data if it was added during alignment\n",
    "if 'loan_status' in test_data.columns:\n",
    "    test_data = test_data.drop('loan_status', axis=1)\n",
    "\n",
    "# Split data into features and target\n",
    "X = train_data.drop('loan_status', axis=1)\n",
    "y = train_data['loan_status']\n",
    "\n",
    "# Split into training and validation sets\n",
    "X_train, X_val, y_train, y_val = train_test_split(X, y, test_size=0.2, random_state=42)\n",
    "\n",
    "# Random Forest model with GridSearchCV for hyperparameter tuning\n",
    "param_grid = {\n",
    "    'n_estimators': [100, 200, 300],\n",
    "    'max_depth': [10, 20, 30],\n",
    "    'min_samples_split': [2, 5, 10],\n",
    "    'min_samples_leaf': [1, 2, 4]\n",
    "}\n",
    "\n",
    "rf = RandomForestClassifier(random_state=42)\n",
    "\n",
    "grid_search = GridSearchCV(estimator=rf, param_grid=param_grid, cv=3, verbose=2, n_jobs=-1)\n",
    "grid_search.fit(X_train, y_train)\n",
    "\n",
    "# Best parameters\n",
    "print(f\"Best parameters found: {grid_search.best_params_}\")\n",
    "\n",
    "# Validate the model\n",
    "val_accuracy = grid_search.score(X_val, y_val)\n",
    "print(f\"Validation Accuracy with best parameters: {val_accuracy:.4f}\")\n",
    "\n",
    "# Predict on the test data (ensure test data does not contain 'loan_status')\n",
    "test_predictions = grid_search.predict(test_data)\n",
    "\n",
    "# Prepare the submission file with correct 'id' from the test set\n",
    "submission = pd.DataFrame({\n",
    "    'id': pd.read_csv('/kaggle/input/playground-series-s4e10/test.csv')['id'],  # Use 'id' column from the original test set\n",
    "    'loan_status': test_predictions\n",
    "})\n",
    "\n",
    "# Save the submission file\n",
    "submission.to_csv('submission.csv', index=False)\n",
    "print(\"Submission file saved as 'submission.csv'.\")\n"
   ]
  }
 ],
 "metadata": {
  "kaggle": {
   "accelerator": "none",
   "dataSources": [
    {
     "databundleVersionId": 9709193,
     "sourceId": 84894,
     "sourceType": "competition"
    }
   ],
   "dockerImageVersionId": 30786,
   "isGpuEnabled": false,
   "isInternetEnabled": true,
   "language": "python",
   "sourceType": "notebook"
  },
  "kernelspec": {
   "display_name": "Python 3",
   "language": "python",
   "name": "python3"
  },
  "language_info": {
   "codemirror_mode": {
    "name": "ipython",
    "version": 3
   },
   "file_extension": ".py",
   "mimetype": "text/x-python",
   "name": "python",
   "nbconvert_exporter": "python",
   "pygments_lexer": "ipython3",
   "version": "3.10.14"
  },
  "papermill": {
   "default_parameters": {},
   "duration": 806.291659,
   "end_time": "2024-10-17T19:30:36.112955",
   "environment_variables": {},
   "exception": null,
   "input_path": "__notebook__.ipynb",
   "output_path": "__notebook__.ipynb",
   "parameters": {},
   "start_time": "2024-10-17T19:17:09.821296",
   "version": "2.6.0"
  }
 },
 "nbformat": 4,
 "nbformat_minor": 5
}
